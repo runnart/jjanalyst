{
 "cells": [
  {
   "cell_type": "code",
   "execution_count": 1,
   "id": "bf890c3f-aa87-41fc-a89d-636e1dbbb93c",
   "metadata": {},
   "outputs": [
    {
     "ename": "ModuleNotFoundError",
     "evalue": "No module named 'alphapose'",
     "output_type": "error",
     "traceback": [
      "\u001b[0;31m---------------------------------------------------------------------------\u001b[0m",
      "\u001b[0;31mModuleNotFoundError\u001b[0m                       Traceback (most recent call last)",
      "Cell \u001b[0;32mIn[1], line 3\u001b[0m\n\u001b[1;32m      1\u001b[0m \u001b[38;5;28;01mimport\u001b[39;00m \u001b[38;5;21;01mcv2\u001b[39;00m\n\u001b[1;32m      2\u001b[0m \u001b[38;5;28;01mimport\u001b[39;00m \u001b[38;5;21;01mtorch\u001b[39;00m\n\u001b[0;32m----> 3\u001b[0m \u001b[38;5;28;01mfrom\u001b[39;00m \u001b[38;5;21;01malphapose\u001b[39;00m \u001b[38;5;28;01mimport\u001b[39;00m AlphaPose\n\u001b[1;32m      5\u001b[0m \u001b[38;5;66;03m# Load the pre-trained model\u001b[39;00m\n\u001b[1;32m      6\u001b[0m model_path \u001b[38;5;241m=\u001b[39m \u001b[38;5;124m'\u001b[39m\u001b[38;5;124m/home/aistation/mybjj/models/fast_421_res152_256x192.pth\u001b[39m\u001b[38;5;124m'\u001b[39m  \u001b[38;5;66;03m# Path to your model\u001b[39;00m\n",
      "\u001b[0;31mModuleNotFoundError\u001b[0m: No module named 'alphapose'"
     ]
    }
   ],
   "source": [
    "import cv2\n",
    "import torch\n",
    "from alphapose import AlphaPose\n",
    "\n",
    "# Load the pre-trained model\n",
    "model_path = '/home/aistation/mybjj/models/fast_421_res152_256x192.pth'  # Path to your model\n",
    "device = 'cuda' if torch.cuda.is_available() else 'cpu'\n",
    "\n",
    "# Initialize AlphaPose\n",
    "pose_estimator = AlphaPose(model_path=model_path, device=device)\n",
    "\n",
    "# Load an image or video for testing\n",
    "input_image = '/home/aistation/Downloads/0000040.jpg'  # Replace with your image path\n",
    "image = cv2.imread(input_image)\n",
    "\n",
    "# Perform pose detection\n",
    "poses = pose_estimator.detect(image)\n",
    "\n",
    "# Draw poses on the image\n",
    "for pose in poses:\n",
    "    for point in pose['keypoints']:\n",
    "        cv2.circle(image, (int(point[0]), int(point[1])), 5, (0, 255, 0), -1)\n",
    "\n",
    "# Show the result\n",
    "cv2.imshow('Pose Detection', image)\n",
    "cv2.waitKey(0)\n",
    "cv2.destroyAllWindows()\n"
   ]
  },
  {
   "cell_type": "code",
   "execution_count": null,
   "id": "a84bf77b-b1a2-4e5c-a2f4-07446aef71f9",
   "metadata": {},
   "outputs": [],
   "source": []
  }
 ],
 "metadata": {
  "kernelspec": {
   "display_name": "Python 3 (ipykernel)",
   "language": "python",
   "name": "python3"
  },
  "language_info": {
   "codemirror_mode": {
    "name": "ipython",
    "version": 3
   },
   "file_extension": ".py",
   "mimetype": "text/x-python",
   "name": "python",
   "nbconvert_exporter": "python",
   "pygments_lexer": "ipython3",
   "version": "3.12.7"
  }
 },
 "nbformat": 4,
 "nbformat_minor": 5
}
